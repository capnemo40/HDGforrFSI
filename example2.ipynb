{
 "cells": [
  {
   "cell_type": "markdown",
   "metadata": {},
   "source": [
    "## This code corresponds to Example 3 of the [arXiv preprint](https://arxiv.org/abs/2404.13578)\n",
    "\n",
    "It solves a simplified hemodynamics problem commonly employed as a benchmark to validate linear fluid-structure Interaction (FSI) solvers.\n",
    "\n",
    "Tested with NGSolve version 6.2.2402"
   ]
  },
  {
   "cell_type": "code",
   "execution_count": null,
   "metadata": {},
   "outputs": [],
   "source": [
    "from ngsolve import *\n",
    "from netgen.geom2d import SplineGeometry\n",
    "from ngsolve.webgui import Draw\n",
    "import matplotlib.pyplot as plt\n",
    "import numpy as np"
   ]
  },
  {
   "cell_type": "markdown",
   "metadata": {},
   "source": [
    "### Model coefficients and parameters"
   ]
  },
  {
   "cell_type": "code",
   "execution_count": null,
   "metadata": {},
   "outputs": [],
   "source": [
    "t = Parameter(0.0)\n",
    "\n",
    "tend = 12e-3 # end time\n",
    "dt = 1e-4 # time step\n",
    "    \n",
    "#mass density\n",
    "rhoF = 1\n",
    "muF  = 0.035\n",
    "lamF = 1e6\n",
    "    \n",
    "rhoS = 1.1\n",
    "    \n",
    "#Lamé coef. corresponding to C\n",
    "muS  = 0.575e6\n",
    "lamS = 1.7e6\n",
    "\n",
    "beta = 4e6    \n",
    "#needed for A = C**{-1}\n",
    "aS1 = 0.5 / muS\n",
    "aS2 = lamS / (4.0 * muS * (lamS + muS))\n",
    "    \n",
    "aF1 = 0.5 / muF\n",
    "aF2 = lamF / (4.0 * muF * (lamF + muF))\n",
    "\n",
    "pMax = 1.333e4\n",
    "tMax = 0.003\n",
    "pIn = IfPos(tMax - t, 0.5*pMax*( 1 - cos(2*np.pi*t/tMax))  , 0)"
   ]
  },
  {
   "cell_type": "markdown",
   "metadata": {},
   "source": [
    "### Geometry and mesh"
   ]
  },
  {
   "cell_type": "code",
   "execution_count": null,
   "metadata": {},
   "outputs": [],
   "source": [
    "geometry = SplineGeometry()\n",
    "pnts     = [ (0, 0), (6,0), (6, 0.5), (6, 0.6), (0,0.6), (0, 0.5)]\n",
    "pnums    = [geometry.AppendPoint(*p) for p in pnts]\n",
    "#start-point, end-point, boundary-condition, domain on left side, domain on right side:\n",
    "lines = [ (pnums[0], pnums[1], \"gammaBot\",  1, 0),\n",
    "          (pnums[1], pnums[2], \"gammaOut\",  1, 0),\n",
    "          (pnums[2], pnums[3], \"gammaD\",    2, 0),\n",
    "          (pnums[3], pnums[4], \"gammaN\",    2, 0),\n",
    "          (pnums[4], pnums[5], \"gammaD\",    2, 0),\n",
    "          (pnums[5], pnums[0], \"gammaIn\",   1, 0),\n",
    "          (pnums[5], pnums[2], \"sigma\",     2, 1)]\n",
    "\n",
    "for p1, p2, bc, left, right in lines:\n",
    "    if bc == \"sigma\":\n",
    "        geometry.Append([\"line\", p1, p2], bc=bc, leftdomain=left, rightdomain=right, maxh=0.05)\n",
    "    elif bc == \"gammaN\":\n",
    "        geometry.Append([\"line\", p1, p2], bc=bc, leftdomain=left, rightdomain=right, maxh=0.05)\n",
    "    else:\n",
    "        geometry.Append([\"line\", p1, p2], bc=bc, leftdomain=left, rightdomain=right)\n",
    "\n",
    "geometry.SetMaterial(1, \"fluid\")\n",
    "geometry.SetMaterial(2, \"solid\")\n",
    "        \n",
    "h = 0.1 #mesh size\n",
    "mesh = Mesh( geometry.GenerateMesh(maxh=h) )    \n",
    "\n",
    "#mesh.GetMaterials()\n",
    "#mesh.GetBoundaries()\n",
    "Draw(mesh);"
   ]
  },
  {
   "cell_type": "markdown",
   "metadata": {},
   "source": [
    "### Finite element spaces"
   ]
  },
  {
   "cell_type": "code",
   "execution_count": null,
   "metadata": {},
   "outputs": [],
   "source": [
    "domain_values_rho = {'fluid': rhoF,  'solid': rhoS}\n",
    "values_list_rho = [domain_values_rho[mat] for mat in mesh.GetMaterials()]\n",
    "rho = CoefficientFunction(values_list_rho)\n",
    "\n",
    "k = 2 #order of the finite element space\n",
    "\n",
    "S = L2(mesh, order = k)\n",
    "W = VectorL2(mesh, order = k+1)\n",
    "D = VectorL2(mesh, order = k+1, definedon = \"solid\")\n",
    "What0 = FacetFESpace(mesh, order=k+1, dirichlet=\"gammaD|gammaN\")\n",
    "What1 = FacetFESpace(mesh, order=k+1, dirichlet=\"gammaD|gammaIn|gammaBot\")\n",
    "fes = FESpace([S, S, S, W, D, What0, What1])\n",
    "\n",
    "sigma1, sigma12, sigma2, u, d, uhat0, uhat1 = fes.TrialFunction()\n",
    "tau1,   tau12,   tau2,   v, w, vhat0, vhat1 = fes.TestFunction()\n",
    "    \n",
    "sigma = CoefficientFunction(( sigma1, sigma12, sigma12, sigma2), dims = (2,2) )\n",
    "tau   = CoefficientFunction(( tau1,   tau12,   tau12,   tau2),   dims = (2,2) )\n",
    "\n",
    "uhat = CoefficientFunction(( uhat0, uhat1))\n",
    "vhat = CoefficientFunction(( vhat0, vhat1))\n",
    "\n",
    "AsigmaS = aS1 * sigma - aS2 * Trace(sigma) *  Id(mesh.dim)\n",
    "AsigmaF = aF1 * sigma - aF2 * Trace(sigma) *  Id(mesh.dim)\n",
    "\n",
    "jump_u = u - uhat\n",
    "jump_v = v - vhat"
   ]
  },
  {
   "cell_type": "markdown",
   "metadata": {},
   "source": [
    "### Bilinear forms and right-hand side"
   ]
  },
  {
   "cell_type": "code",
   "execution_count": null,
   "metadata": {},
   "outputs": [],
   "source": [
    "\n",
    "n = specialcf.normal(mesh.dim)\n",
    "h = specialcf.mesh_size\n",
    "dS = dx(element_boundary=True)\n",
    "\n",
    "a = BilinearForm(fes, condense=True)\n",
    "a += (1/dt)*rho*u*v*dx\n",
    "a += (1/dt)*InnerProduct(AsigmaS, tau)*dx(\"solid\") \n",
    "a += (1/dt)*InnerProduct(d, w)*dx(\"solid\")\n",
    "a +=    0.5*beta*InnerProduct(d, v)*dx(\"solid\")\n",
    "a += -  0.5*InnerProduct(u,w)*dx(\"solid\")\n",
    "a +=    0.5*InnerProduct(AsigmaF,tau)*dx(\"fluid\")\n",
    "a +=    0.5*InnerProduct(sigma, grad(v))*dx    - 0.5*InnerProduct(grad(u), tau)*dx\n",
    "a += -  0.5*InnerProduct( sigma*n, jump_v)*dS  + 0.5*InnerProduct(jump_u, tau*n)*dS\n",
    "a +=    0.5*((k+1)**2/h)*jump_u*jump_v*dS\n",
    "a.Assemble()\n",
    "\n",
    "inv_A = a.mat.Inverse(freedofs=fes.FreeDofs(coupling=True))\n",
    "    \n",
    "M = BilinearForm(fes)\n",
    "M += (1/dt)*rho*u*v*dx\n",
    "M += (1/dt)*InnerProduct(AsigmaS, tau)*dx(\"solid\")\n",
    "M += (1/dt)*InnerProduct(d, w)*dx(\"solid\")\n",
    "M += - 0.5*beta*InnerProduct(d, v)*dx(\"solid\")\n",
    "M +=   0.5*InnerProduct(u,w)*dx(\"solid\")\n",
    "M += - 0.5*InnerProduct(AsigmaF,tau)*dx(\"fluid\")\n",
    "M += - 0.5*InnerProduct(sigma, grad(v))*dx   + 0.5*InnerProduct(grad(u), tau)*dx\n",
    "M +=   0.5*InnerProduct( sigma*n, jump_v)*dS - 0.5*InnerProduct(jump_u, tau*n)*dS\n",
    "M += - 0.5*((k+1)**2/h)*jump_u*jump_v*dS\n",
    "M.Assemble()\n",
    "\n",
    "ft = LinearForm(fes)\n",
    "ft += -pIn*(vhat0.Trace()*n[0] + vhat1.Trace()*n[1])*ds(definedon=mesh.Boundaries(\"gammaIn\"))"
   ]
  },
  {
   "cell_type": "markdown",
   "metadata": {},
   "source": [
    "### Instantiation of initial conditions"
   ]
  },
  {
   "cell_type": "code",
   "execution_count": null,
   "metadata": {},
   "outputs": [],
   "source": [
    "\n",
    "u0 = GridFunction(fes)\n",
    "u0.vec[:] = 0.0\n",
    "\n",
    "ft.Assemble()\n",
    "\n",
    "res = u0.vec.CreateVector()\n",
    "b0  = u0.vec.CreateVector()\n",
    "b1  = u0.vec.CreateVector()\n",
    "    \n",
    "b0.data = ft.vec\n",
    "\n",
    "t_intermediate = dt # time counter within one block-run"
   ]
  },
  {
   "cell_type": "markdown",
   "metadata": {},
   "source": [
    "### Time loop"
   ]
  },
  {
   "cell_type": "code",
   "execution_count": null,
   "metadata": {},
   "outputs": [],
   "source": [
    "\n",
    "while t_intermediate < tend:\n",
    "\n",
    "    t.Set(t_intermediate)\n",
    "    ft.Assemble()\n",
    "    b1.data = ft.vec\n",
    "     \n",
    "    res.data = M.mat*u0.vec + 0.5*(b0.data + b1.data)\n",
    "    \n",
    "    u0.vec[:] = 0.0\n",
    "\n",
    "    res.data = res - a.mat * u0.vec\n",
    "    res.data += a.harmonic_extension_trans * res\n",
    "    u0.vec.data += inv_A * res\n",
    "    u0.vec.data += a.inner_solve * res\n",
    "    u0.vec.data += a.harmonic_extension * u0.vec\n",
    "    \n",
    "    b0.data = b1.data\n",
    "    \n",
    "    t_intermediate += dt\n",
    "    \n",
    "    print(\"\\r\",t_intermediate,end=\"\")"
   ]
  },
  {
   "cell_type": "markdown",
   "metadata": {},
   "source": [
    "### Outputs corresponding to Figure 3 "
   ]
  },
  {
   "cell_type": "code",
   "execution_count": null,
   "metadata": {},
   "outputs": [],
   "source": [
    "disp_values = []\n",
    "velocity_values = []\n",
    "pressure_values = []\n",
    "\n",
    "start = 0\n",
    "end = 6\n",
    "step = 1/20\n",
    "partition = np.arange(start, end+step, step)\n",
    "\n",
    "for p in partition:\n",
    "    disp_values.append(u0.components[4](mesh(p, 0.6))[1])\n",
    "    velocity_values.append(2*u0.components[3](mesh(p, 0.0))[0]/3)\n",
    "    pressure_values.append( - 0.5*u0.components[0](mesh(p, 0.0)) \n",
    "                            - 0.5*u0.components[2](mesh(p, 0.0)) )\n",
    "\n",
    "\n",
    "fig, axs = plt.subplots(3)  # Create a figure with 4 subplots\n",
    "\n",
    "# Plot disp_values\n",
    "axs[0].plot(partition, disp_values)\n",
    "axs[0].set_xlabel('top line')\n",
    "axs[0].set_ylabel('y-disp')\n",
    "axs[0].grid(True)\n",
    "\n",
    "# Plot velocity_values\n",
    "axs[1].plot(partition, velocity_values)\n",
    "axs[1].set_xlabel('bottom line')\n",
    "axs[1].set_ylabel('x-velocity')\n",
    "axs[1].grid(True)\n",
    "\n",
    "# Plot pressure_values\n",
    "axs[2].plot(partition, pressure_values)\n",
    "axs[2].set_xlabel('bottom line')\n",
    "axs[2].set_ylabel('pressure')\n",
    "axs[2].grid(True)\n",
    "\n",
    "plt.tight_layout()  # Adjust the layout so that plots do not overlap\n",
    "plt.show()"
   ]
  }
 ],
 "metadata": {
  "kernelspec": {
   "display_name": "Python 3",
   "language": "python",
   "name": "python3"
  },
  "language_info": {
   "codemirror_mode": {
    "name": "ipython",
    "version": 3
   },
   "file_extension": ".py",
   "mimetype": "text/x-python",
   "name": "python",
   "nbconvert_exporter": "python",
   "pygments_lexer": "ipython3",
   "version": "3.12.1"
  }
 },
 "nbformat": 4,
 "nbformat_minor": 2
}
