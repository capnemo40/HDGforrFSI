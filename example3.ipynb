{
 "cells": [
  {
   "cell_type": "markdown",
   "metadata": {},
   "source": [
    "## This code corresponds to Example 3 of the [arXiv preprint](https://arxiv.org/abs/2404.13578)\n",
    "\n",
    "Extends the hemodynamics problem considered in Example 2 to 3D.\n",
    "\n",
    "Tested with NGSolve version 6.2.2402"
   ]
  },
  {
   "cell_type": "code",
   "execution_count": null,
   "metadata": {},
   "outputs": [],
   "source": [
    "from netgen.occ import *\n",
    "from ngsolve import *\n",
    "from ngsolve.webgui import *\n",
    "import matplotlib.pyplot as plt\n",
    "import numpy as np"
   ]
  },
  {
   "cell_type": "markdown",
   "metadata": {},
   "source": [
    "### Model coefficients and parameters"
   ]
  },
  {
   "cell_type": "code",
   "execution_count": null,
   "metadata": {},
   "outputs": [],
   "source": [
    "t = Parameter(0.0)\n",
    "\n",
    "dt = 1e-4\n",
    "    \n",
    "#mass density\n",
    "rhoF = 1\n",
    "muF  = 0.035\n",
    "lamF = 1e6\n",
    "    \n",
    "rhoS = 1.1\n",
    "    \n",
    "#Lamé coef. corresponding to C\n",
    "muS  = 0.575e6\n",
    "lamS = 1.7e6\n",
    "\n",
    "#beta = 4e6    \n",
    "#needed for A = C**{-1}\n",
    "aS1 = 0.5 / muS\n",
    "aS2 = lamS / (2.0 * muS * (3 * lamS + 2 * muS))\n",
    "    \n",
    "aF1 = 0.5 / muF\n",
    "aF2 = lamF / (2.0 * muF * (3 * lamF + 2 * muF))\n",
    "\n",
    "pMax = 1.333e4\n",
    "tMax = 0.003\n",
    "pIn = IfPos(tMax - t, 0.5*pMax*( 1 - cos(2*np.pi*t/tMax) )  , 0)"
   ]
  },
  {
   "cell_type": "markdown",
   "metadata": {},
   "source": [
    "### Geometry and mesh\n",
    "\n",
    "The default length of the cylinder is set to L=2.\n",
    "\n",
    "The results presented in the article were obtained using L=5. \n",
    "It's worth noting that running the code with this larger value of L \n",
    "significantly increases the computational time."
   ]
  },
  {
   "cell_type": "code",
   "execution_count": null,
   "metadata": {},
   "outputs": [],
   "source": [
    "L = 2\n",
    "\n",
    "Cylout  = Cylinder ( Pnt(0,0,0), X, r = 0.6, h = L ).bc(\"gammaN\")\n",
    "Cylin   = Cylinder ( Pnt(0,0,0), X, r = 0.5, h = L ).bc(\"sigma\")\n",
    "\n",
    "solid = Cylout - Cylin\n",
    "fluid  = Cylout*Cylin\n",
    "\n",
    "solid.mat(\"solid\")\n",
    "fluid.mat(\"fluid\")\n",
    "\n",
    "solid.faces.Max(X).bc(\"gammaD\")\n",
    "solid.faces.Min(X).bc(\"gammaD\")\n",
    "\n",
    "fluid.faces.Max(X).bc(\"gammaOut\")\n",
    "fluid.faces.Min(X).bc(\"gammaIn\")\n",
    "\n",
    "tube = Glue( [fluid, solid] )\n",
    "\n",
    "mesh = Mesh(OCCGeometry(tube).GenerateMesh(maxh=0.25)).Curve(3)\n",
    "Draw (mesh, clipping=True);\n",
    "\n",
    "#mesh.GetMaterials()\n",
    "#mesh.GetBoundaries()\n"
   ]
  },
  {
   "cell_type": "markdown",
   "metadata": {},
   "source": [
    "### Finite element spaces"
   ]
  },
  {
   "cell_type": "code",
   "execution_count": null,
   "metadata": {},
   "outputs": [],
   "source": [
    "domain_values_rho = {'fluid': rhoF,  'solid': rhoS}\n",
    "values_list_rho = [domain_values_rho[mat] for mat in mesh.GetMaterials()]\n",
    "rho = CoefficientFunction(values_list_rho)\n",
    "\n",
    "k = 3 #order of the finite element space\n",
    "\n",
    "S = L2(mesh, order = k)\n",
    "W = VectorL2(mesh, order = k+1)\n",
    "What0 = FacetFESpace(mesh, order=k+1, dirichlet=\"gammaD\")\n",
    "What1 = FacetFESpace(mesh, order=k+1, dirichlet=\"gammaD|gammaIn|gammaOut\")\n",
    "What2 = FacetFESpace(mesh, order=k+1, dirichlet=\"gammaD|gammaIn|gammaOut\")\n",
    "fes = FESpace([S, S, S, S, S, S, W, What0, What1, What2])\n",
    "\n",
    "sigma11, sigma12, sigma13, sigma22, sigma23, sigma33, u, uhat0, uhat1, uhat2 = fes.TrialFunction()\n",
    "tau11,   tau12,   tau13,   tau22,   tau23,   tau33,   v, vhat0, vhat1, vhat2 = fes.TestFunction()\n",
    "    \n",
    "sigma = CoefficientFunction(( sigma11,  sigma12,  sigma13,  sigma12,  sigma22,  sigma23,  sigma13,  sigma23,  sigma33),   dims = (3,3) )\n",
    "tau   = CoefficientFunction(( tau11,    tau12,    tau13,    tau12,    tau22,    tau23,    tau13,    tau23,    tau33),     dims = (3,3) )\n",
    "\n",
    "uhat = CoefficientFunction(( uhat0, uhat1, uhat2))\n",
    "vhat = CoefficientFunction(( vhat0, vhat1, vhat2))\n",
    "\n",
    "AsigmaS = aS1 * sigma - aS2 * Trace(sigma) *  Id(mesh.dim)\n",
    "AsigmaF = aF1 * sigma - aF2 * Trace(sigma) *  Id(mesh.dim)\n",
    "\n",
    "jump_u = u - uhat\n",
    "jump_v = v - vhat"
   ]
  },
  {
   "cell_type": "markdown",
   "metadata": {},
   "source": [
    "### Bilinear forms and right-hand side"
   ]
  },
  {
   "cell_type": "code",
   "execution_count": null,
   "metadata": {},
   "outputs": [],
   "source": [
    "n = specialcf.normal(mesh.dim)\n",
    "h = specialcf.mesh_size\n",
    "dS = dx(element_boundary=True)\n",
    "\n",
    "a = BilinearForm(fes, condense=True)\n",
    "a += (1/dt)*rho*u*v*dx\n",
    "a += (1/dt)*InnerProduct(AsigmaS, tau)*dx(\"solid\") \n",
    "a +=    0.5*InnerProduct(AsigmaF,tau)*dx(\"fluid\")\n",
    "a +=    0.5*InnerProduct(sigma, grad(v))*dx    - 0.5*InnerProduct(grad(u), tau)*dx\n",
    "a += -  0.5*InnerProduct( sigma*n, jump_v)*dS  + 0.5*InnerProduct(jump_u, tau*n)*dS\n",
    "a +=    0.5*((k+1)**2/h)*jump_u*jump_v*dS\n",
    "a.Assemble()\n",
    "\n",
    "inv_A = a.mat.Inverse(freedofs=fes.FreeDofs(coupling=True))\n",
    "    \n",
    "M = BilinearForm(fes)\n",
    "M += (1/dt)*rho*u*v*dx\n",
    "M += (1/dt)*InnerProduct(AsigmaS, tau)*dx(\"solid\")\n",
    "M += - 0.5*InnerProduct(AsigmaF,tau)*dx(\"fluid\")\n",
    "M += - 0.5*InnerProduct(sigma, grad(v))*dx   + 0.5*InnerProduct(grad(u), tau)*dx\n",
    "M +=   0.5*InnerProduct( sigma*n, jump_v)*dS - 0.5*InnerProduct(jump_u, tau*n)*dS\n",
    "M += - 0.5*((k+1)**2/h)*jump_u*jump_v*dS\n",
    "M.Assemble()\n",
    "\n",
    "ft = LinearForm(fes)\n",
    "#ft += source * v * dx#(\"fluid\") + sourceS * v * dx(\"solid\")\n",
    "ft += - pIn*( vhat0.Trace()*n[0] + vhat1.Trace()*n[1] + vhat2.Trace()*n[2] )*ds(definedon=mesh.Boundaries(\"gammaIn\"))"
   ]
  },
  {
   "cell_type": "markdown",
   "metadata": {},
   "source": [
    "### Instantiation of initial conditions"
   ]
  },
  {
   "cell_type": "code",
   "execution_count": null,
   "metadata": {},
   "outputs": [],
   "source": [
    "disp0 = GridFunction(W)\n",
    "disp0.vec[:] = 0.0\n",
    "\n",
    "disp = GridFunction(W)\n",
    "    \n",
    "u0 = GridFunction(fes)\n",
    "u0.vec[:] = 0.0\n",
    "\n",
    "u1 = GridFunction(fes)\n",
    "    \n",
    "ft.Assemble()\n",
    "    \n",
    "res = u0.vec.CreateVector()\n",
    "b0  = u0.vec.CreateVector()\n",
    "b1  = u0.vec.CreateVector()\n",
    "    \n",
    "b0.data = ft.vec\n",
    "\n",
    "t_intermediate = dt # time counter within one block-run"
   ]
  },
  {
   "cell_type": "markdown",
   "metadata": {},
   "source": [
    "### Time loop"
   ]
  },
  {
   "cell_type": "code",
   "execution_count": null,
   "metadata": {},
   "outputs": [],
   "source": [
    "tend = 12e-3 # end time\n",
    "\n",
    "while t_intermediate < tend:\n",
    "    \n",
    "    t.Set(t_intermediate)\n",
    "    ft.Assemble()\n",
    "    b1.data = ft.vec\n",
    "     \n",
    "    res.data = M.mat*u0.vec + 0.5*(b0.data + b1.data)\n",
    "\n",
    "    u1.vec[:] = 0.0 \n",
    "\n",
    "    res.data = res - a.mat * u1.vec\n",
    "    res.data += a.harmonic_extension_trans * res\n",
    "    u1.vec.data += inv_A * res\n",
    "    u1.vec.data += a.inner_solve * res\n",
    "    u1.vec.data += a.harmonic_extension * u1.vec\n",
    "    \n",
    "       \n",
    "    disp.vec[:] = 0.0\n",
    "    disp.vec.data = disp0.vec + 0.5*dt*(u1.components[6].vec + u0.components[6].vec)\n",
    "        \n",
    "    u0.vec.data = u1.vec\n",
    "    disp0.vec.data = disp.vec\n",
    "    b0.data = b1.data\n",
    "    \n",
    "    \n",
    "    #computing relevant data for the graphical representation\n",
    "    VH = VectorL2(mesh, order=k+1, definedon = \"solid\")\n",
    "    dis = GridFunction(VH, 'displacement')\n",
    "    dis.Set( disp0 )\n",
    "\n",
    "    VF = VectorL2(mesh, order=k+1, definedon = \"fluid\")\n",
    "    velo = GridFunction(VF, 'flow')\n",
    "    velo.Set( u0.components[6])\n",
    "\n",
    "    Mises = sqrt(    0.5*( u0.components[0]   - u0.components[3]  )**2 \n",
    "               + 0.5*( u0.components[3]   - u0.components[5]  )**2  \n",
    "               + 0.5*( u0.components[5]  -  u0.components[0]  )**2 \n",
    "               + 3*u0.components[1]**2 \n",
    "               + 3*u0.components[4]**2 \n",
    "               + 3*u0.components[2]**2  )\n",
    "\n",
    "    pre = -(u0.components[0] + u0.components[3] + u0.components[5])/3\n",
    "\n",
    "    H = L2(mesh, order=k, definedon = \"solid\")\n",
    "    vonMises = GridFunction(H, 'vonMises')\n",
    "    vonMises.Set(Mises)\n",
    "\n",
    "    P = L2(mesh, order=k, definedon = \"fluid\")\n",
    "    pressure = GridFunction(P, 'pressure')\n",
    "    pressure.Set(pre)\n",
    "    \n",
    "    #Export data for a graphical representation in Paraview at time steps 0.004, 0.008 and 0.012\n",
    "    if abs(t_intermediate - 0.004) < 1e-5:\n",
    "        vtk = VTKOutput(ma=mesh, coefs=[dis, vonMises, pressure, velo], names = [\"displacement\",  \"von Mises stress\", \"pressure\", \"velocity\"], filename=\"biGtube4\", subdivision=3)\n",
    "        vtk.Do()\n",
    "    \n",
    "    if abs(t_intermediate - 0.008) < 1e-5:\n",
    "        vtk = VTKOutput(ma=mesh, coefs=[dis, vonMises, pressure, velo], names = [\"displacement\",  \"von Mises stress\", \"pressure\", \"velocity\"], filename=\"biGtube8\", subdivision=3)\n",
    "        vtk.Do()\n",
    "        \n",
    "    if abs(t_intermediate - 0.012) < 1e-5:\n",
    "        vtk = VTKOutput(ma=mesh, coefs=[dis, vonMises, pressure, velo], names = [\"displacement\",  \"von Mises stress\", \"pressure\", \"velocity\"], filename=\"biGtube12\", subdivision=3)\n",
    "        vtk.Do()\n",
    "    ##########################\n",
    "    \n",
    "    print(\"\\r\",t_intermediate,end=\"\")\n",
    "    \n",
    "    t_intermediate += dt"
   ]
  },
  {
   "cell_type": "markdown",
   "metadata": {},
   "source": [
    "### Export line-data for figures"
   ]
  },
  {
   "cell_type": "code",
   "execution_count": null,
   "metadata": {},
   "outputs": [],
   "source": [
    "disp_values = []\n",
    "pressure_values = []\n",
    "\n",
    "start = 0\n",
    "end = L\n",
    "step = 1/20\n",
    "\n",
    "partition = np.arange(start, end+step, step)\n",
    "\n",
    "for p in partition:\n",
    "    disp_values.append(disp0(mesh(p, 0.55, 0))[1])\n",
    "    pressure_values.append( pressure(mesh(p, 0.0, 0.0)) )\n",
    "\n",
    "\n",
    "fig, axs = plt.subplots(2)  # Create a figure with 4 subplots\n",
    "\n",
    "#Plot disp_values\n",
    "axs[0].plot(partition, disp_values)\n",
    "axs[0].set_xlabel('interface line')\n",
    "axs[0].set_ylabel('y-disp')\n",
    "axs[0].grid(True)\n",
    "\n",
    "#Plot pressure_values\n",
    "axs[1].plot(partition, pressure_values)\n",
    "axs[1].set_xlabel('central line')\n",
    "axs[1].set_ylabel('pressure')\n",
    "axs[1].grid(True)\n",
    "\n",
    "plt.tight_layout()  # Adjust the layout so that plots do not overlap\n",
    "plt.show()"
   ]
  }
 ],
 "metadata": {
  "kernelspec": {
   "display_name": "Python 3",
   "language": "python",
   "name": "python3"
  },
  "language_info": {
   "codemirror_mode": {
    "name": "ipython",
    "version": 3
   },
   "file_extension": ".py",
   "mimetype": "text/x-python",
   "name": "python",
   "nbconvert_exporter": "python",
   "pygments_lexer": "ipython3",
   "version": "3.12.1"
  }
 },
 "nbformat": 4,
 "nbformat_minor": 2
}
